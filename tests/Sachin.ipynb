{
 "cells": [
  {
   "cell_type": "code",
   "execution_count": 1,
   "metadata": {},
   "outputs": [],
   "source": [
    "COVID_dir = '/Users/yiningliu/research/pooled-sampling/COVID-19-pooling' # set this to your directory "
   ]
  },
  {
   "cell_type": "code",
   "execution_count": 2,
   "metadata": {},
   "outputs": [],
   "source": [
    "import numpy as np\n",
    "import sys\n",
    "import os\n",
    "sys.path.insert(1, COVID_dir)\n",
    "from test import test_random_M\n",
    "from optimal_sizes import optimal_pool_size\n",
    "import json"
   ]
  },
  {
   "cell_type": "code",
   "execution_count": 3,
   "metadata": {},
   "outputs": [],
   "source": [
    "# create results folder if not exists \n",
    "if not os.path.exists(COVID_dir + \"/tests/results/\"):\n",
    "    os.makedirs(COVID_dir + \"/tests/results/\")"
   ]
  },
  {
   "cell_type": "markdown",
   "metadata": {},
   "source": [
    "# Test Effect of Varying row weights from 1 to 60 for infection rates 5/384 to 7/384"
   ]
  },
  {
   "cell_type": "code",
   "execution_count": null,
   "metadata": {},
   "outputs": [],
   "source": [
    "row_weights = [i for i in range(1, 61, 2)]\n",
    "ks = [5, 6, 7]\n",
    "\n",
    "for k in ks: \n",
    "    for m in row_weights: \n",
    "        test_random_M(m=m, k=k, n=384, T=48, num_trails=100, COVID_dir=COVID_dir, print_every=10)"
   ]
  }
 ],
 "metadata": {
  "kernelspec": {
   "display_name": "Python 3",
   "language": "python",
   "name": "python3"
  },
  "language_info": {
   "codemirror_mode": {
    "name": "ipython",
    "version": 3
   },
   "file_extension": ".py",
   "mimetype": "text/x-python",
   "name": "python",
   "nbconvert_exporter": "python",
   "pygments_lexer": "ipython3",
   "version": "3.8.3"
  }
 },
 "nbformat": 4,
 "nbformat_minor": 4
}
