{
 "cells": [
  {
   "cell_type": "code",
   "execution_count": 1,
   "metadata": {},
   "outputs": [],
   "source": [
    "COVID_dir = '/Users/yiningliu/research/pooled-sampling/COVID-19-pooling' # set this to your directory \n",
    "import numpy as np\n",
    "import sys\n",
    "import os\n",
    "sys.path.insert(1, COVID_dir)\n",
    "from test import test_random_M\n",
    "from optimal_sizes import optimal_pool_size, minT, entropy\n",
    "import json\n",
    "from membership_matrix import generate_const_row_weight, generate_doubly_regular"
   ]
  },
  {
   "cell_type": "code",
   "execution_count": 2,
   "metadata": {},
   "outputs": [],
   "source": [
    "num_random_matrices = 50\n",
    "n = 384\n",
    "T = 48\n",
    "num_trials = 100"
   ]
  },
  {
   "cell_type": "code",
   "execution_count": 3,
   "metadata": {},
   "outputs": [],
   "source": [
    "row_weights = [i for i in range(8, 61, 2)]\n",
    "ks = [5, 6, 7]"
   ]
  },
  {
   "cell_type": "code",
   "execution_count": null,
   "metadata": {},
   "outputs": [],
   "source": [
    "for k in ks: \n",
    "    for m in row_weights: \n",
    "        test_random_M(m, k, n, T, num_random_matrices=10, COVID_dir=COVID_dir, generate_matrix=generate_doubly_regular, print_every=1)"
   ]
  }
 ],
 "metadata": {
  "kernelspec": {
   "display_name": "Python 3",
   "language": "python",
   "name": "python3"
  },
  "language_info": {
   "codemirror_mode": {
    "name": "ipython",
    "version": 3
   },
   "file_extension": ".py",
   "mimetype": "text/x-python",
   "name": "python",
   "nbconvert_exporter": "python",
   "pygments_lexer": "ipython3",
   "version": "3.8.3"
  }
 },
 "nbformat": 4,
 "nbformat_minor": 4
}
