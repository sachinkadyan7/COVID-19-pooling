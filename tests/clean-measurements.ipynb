{
 "cells": [
  {
   "cell_type": "code",
   "execution_count": 1,
   "metadata": {},
   "outputs": [],
   "source": [
    "import sys\n",
    "sys.path.insert(1, '/Users/yiningliu/research/pooled-sampling/COVID-19-pooling') # set this to your directory"
   ]
  },
  {
   "cell_type": "code",
   "execution_count": 2,
   "metadata": {},
   "outputs": [],
   "source": [
    "import numpy as np\n",
    "from numpy import genfromtxt\n",
    "import scipy.io\n",
    "from test import recover_pool_results\n",
    "from optimal_sizes import optimal_pool_size"
   ]
  },
  {
   "cell_type": "code",
   "execution_count": 3,
   "metadata": {},
   "outputs": [],
   "source": [
    "# this is the membership matrix by Shental et al. \n",
    "# download the file from https://github.com/NoamShental/PBEST/blob/master/mFiles/poolingMatrix.mat \n",
    "matrix_file = scipy.io.loadmat('/Users/yiningliu/research/pooled-sampling/COVID-19-pooling/tests/data/shental-poolingMatrix.mat')\n",
    "membership_matrix = matrix_file['poolingMatrix'] "
   ]
  },
  {
   "cell_type": "code",
   "execution_count": 7,
   "metadata": {},
   "outputs": [],
   "source": [
    "def compare_truth_and_estimates(membership_matrix, true_infection_vectors_file, fpr, fnr, f, verbose=False): \n",
    "    \"get ground truth from true_infection_vectors_file and attempt to recover the ground truth.\" \n",
    "    xs = genfromtxt(true_infection_vectors_file, delimiter=',')\n",
    "    result = {\"xs\": xs} \n",
    "    \n",
    "    pool_results = np.sign(np.matmul(membership_matrix, xs)) \n",
    "    recovered_xs, recovered_false_ps, recovered_false_ns = recover_pool_results(membership_matrix, pool_results, fpr, fnr, f, verbose) \n",
    "    \n",
    "    result[\"recovered_xs\"] = recovered_xs \n",
    "    result[\"recovered_false_ps\"] = recovered_false_ps \n",
    "    result[\"recovered_false_ns\"] = recovered_false_ns \n",
    "    \n",
    "    if not verbose: \n",
    "        print(\"=========================\") \n",
    "    \n",
    "    num_errors = (xs != recovered_xs).sum()\n",
    "    num_fp = ((xs == 0) * (recovered_xs == 1)).sum() \n",
    "    num_fn = ((xs == 1) * (recovered_xs == 0)).sum() \n",
    "    accuracy = (xs == recovered_xs).sum() / xs.size \n",
    "    \n",
    "    result[\"num_errors\"] = (xs != recovered_xs).sum() \n",
    "    result[\"accuracy\"] = accuracy\n",
    "    \n",
    "    if not verbose: \n",
    "        print(\"%s errors: %s false positive(s), %s false negative(s)\" % (num_errors, num_fp, num_fn))\n",
    "        print(\"accuracy: %.2f %%\" % (accuracy * 100))\n",
    "    \n",
    "    return result\n",
    "\n",
    "def check_ILP_optimality(xs, recovered_xs, verbose=False): \n",
    "    \"This is only for noiseless data. For noisy measurement experiments, need to include ||f|| and ||n|| in the objective.\"\n",
    "    _, num_trials = xs.shape\n",
    "    for trial in range(100):\n",
    "        x, recovered_x = xs[:, trial], recovered_xs[:, trial] \n",
    "        num_errors = (x != recovered_x).sum()\n",
    "        if num_errors != 0 and not verbose: \n",
    "            Mx = np.sign(membership_matrix @ x) \n",
    "            Mxprime = np.sign(membership_matrix @ recovered_x)\n",
    "            print(\"For trial %s, %s constraints not satisfied.\" % (trial, sum(Mx != Mxprime)))\n",
    "            print(\"||x|| = %s >= ||recovered_x||? %s\" % (sum(x), sum(x) >= sum(recovered_x))) \n",
    "        elif num_errors != 0 and sum(x) < sum(recovered_x):\n",
    "            print(\"ILP solver fails to find the optimize the objective for trail %s\" % trail)"
   ]
  },
  {
   "cell_type": "markdown",
   "metadata": {},
   "source": [
    "# Test Result for f = 1/384"
   ]
  },
  {
   "cell_type": "code",
   "execution_count": 5,
   "metadata": {},
   "outputs": [
    {
     "name": "stdout",
     "output_type": "stream",
     "text": [
      "Starting trail 0 ...\n",
      "Starting trail 10 ...\n",
      "Starting trail 20 ...\n",
      "Starting trail 30 ...\n",
      "Starting trail 40 ...\n",
      "Starting trail 50 ...\n",
      "Starting trail 60 ...\n",
      "Starting trail 70 ...\n",
      "Starting trail 80 ...\n",
      "Starting trail 90 ...\n",
      "=========================\n",
      "0 errors: 0 false positive(s), 0 false negative(s)\n",
      "accuracy: 100.00 %\n"
     ]
    }
   ],
   "source": [
    "fpr, fnr, f = 0, 0, 1/384 \n",
    "file1 = '/Users/yiningliu/research/pooled-sampling/COVID-19-pooling/tests/data/x-f-1-384.csv' \n",
    "result = compare_truth_and_estimates(membership_matrix, file1, fpr, fnr, f)\n",
    "xs = result['xs']\n",
    "recovered_xs = result['recovered_xs']\n",
    "recovered_false_ps = result['recovered_false_ps']\n",
    "recovered_false_ns = result['recovered_false_ns']\n",
    "check_ILP_optimality(xs, recovered_xs)"
   ]
  },
  {
   "cell_type": "markdown",
   "metadata": {},
   "source": [
    "# Test Result for f = 2/384"
   ]
  },
  {
   "cell_type": "code",
   "execution_count": 38,
   "metadata": {},
   "outputs": [
    {
     "name": "stdout",
     "output_type": "stream",
     "text": [
      "Starting trail 0 ...\n",
      "Starting trail 10 ...\n",
      "Starting trail 20 ...\n",
      "Starting trail 30 ...\n",
      "Starting trail 40 ...\n",
      "Starting trail 50 ...\n",
      "Starting trail 60 ...\n",
      "Starting trail 70 ...\n",
      "Starting trail 80 ...\n",
      "Starting trail 90 ...\n",
      "=========================\n",
      "1 errors: 0 false positive(s), 1 false negative(s)\n",
      "accuracy: 100.00 %\n",
      "For trial 98, 6 constraints not satisfied.\n",
      "||x|| = 6.0 >= ||recovered_x||? True\n"
     ]
    }
   ],
   "source": [
    "fpr, fnr, f = 0, 0, 2/384 \n",
    "file2 = '/Users/yiningliu/research/pooled-sampling/COVID-19-pooling/tests/data/x-f-2-384.csv' \n",
    "result = compare_truth_and_estimates(membership_matrix, file2, fpr, fnr, f)\n",
    "xs = result['xs']\n",
    "recovered_xs = result['recovered_xs']\n",
    "recovered_false_ps = result['recovered_false_ps']\n",
    "recovered_false_ns = result['recovered_false_ns']\n",
    "check_ILP_optimality(xs, recovered_xs)"
   ]
  },
  {
   "cell_type": "code",
   "execution_count": 44,
   "metadata": {},
   "outputs": [
    {
     "data": {
      "text/plain": [
       "(6.0, 5.0)"
      ]
     },
     "execution_count": 44,
     "metadata": {},
     "output_type": "execute_result"
    }
   ],
   "source": [
    "xs[:, 98].sum(), recovered_xs[:, 98].sum()"
   ]
  },
  {
   "cell_type": "code",
   "execution_count": 9,
   "metadata": {},
   "outputs": [
    {
     "data": {
      "text/plain": [
       "(0.0, 0.0)"
      ]
     },
     "execution_count": 9,
     "metadata": {},
     "output_type": "execute_result"
    }
   ],
   "source": [
    "recovered_false_ps.sum(), recovered_false_ns.sum() # should be zeros"
   ]
  },
  {
   "cell_type": "markdown",
   "metadata": {},
   "source": [
    "# Test Result for f = 3/384"
   ]
  },
  {
   "cell_type": "code",
   "execution_count": 8,
   "metadata": {},
   "outputs": [
    {
     "name": "stdout",
     "output_type": "stream",
     "text": [
      "Starting trail 0 ...\n",
      "Starting trail 10 ...\n",
      "Starting trail 20 ...\n",
      "Starting trail 30 ...\n",
      "Starting trail 40 ...\n",
      "Starting trail 50 ...\n",
      "Starting trail 60 ...\n",
      "Starting trail 70 ...\n",
      "Starting trail 80 ...\n",
      "Starting trail 90 ...\n",
      "=========================\n",
      "33 errors: 15 false positive(s), 18 false negative(s)\n",
      "accuracy: 99.91 %\n",
      "||x|| = 5.0 >= ||recovered_x||? True\n",
      "||x|| = 7.0 >= ||recovered_x||? True\n",
      "||x|| = 6.0 >= ||recovered_x||? True\n",
      "||x|| = 8.0 >= ||recovered_x||? True\n",
      "||x|| = 8.0 >= ||recovered_x||? True\n",
      "||x|| = 7.0 >= ||recovered_x||? True\n",
      "||x|| = 7.0 >= ||recovered_x||? True\n"
     ]
    }
   ],
   "source": [
    "fpr, fnr, f = 0, 0, 3/384 \n",
    "file3 = '/Users/yiningliu/research/pooled-sampling/COVID-19-pooling/tests/data/x-f-3-384.csv' \n",
    "result = compare_truth_and_estimates(membership_matrix, file3, fpr, fnr, f)\n",
    "xs = result['xs']\n",
    "recovered_xs = result['recovered_xs']\n",
    "recovered_false_ps = result['recovered_false_ps']\n",
    "recovered_false_ns = result['recovered_false_ns']\n",
    "check_ILP_optimality(xs, recovered_xs)"
   ]
  },
  {
   "cell_type": "code",
   "execution_count": 11,
   "metadata": {},
   "outputs": [
    {
     "data": {
      "text/plain": [
       "(0.0, 0.0)"
      ]
     },
     "execution_count": 11,
     "metadata": {},
     "output_type": "execute_result"
    }
   ],
   "source": [
    "recovered_false_ps.sum(), recovered_false_ns.sum() # should be zeros"
   ]
  },
  {
   "cell_type": "markdown",
   "metadata": {},
   "source": [
    "# Test Result for f = 4/384"
   ]
  },
  {
   "cell_type": "code",
   "execution_count": 9,
   "metadata": {},
   "outputs": [
    {
     "name": "stdout",
     "output_type": "stream",
     "text": [
      "Starting trail 0 ...\n",
      "Starting trail 10 ...\n",
      "Starting trail 20 ...\n",
      "Starting trail 30 ...\n",
      "Starting trail 40 ...\n",
      "Starting trail 50 ...\n",
      "Starting trail 60 ...\n",
      "Starting trail 70 ...\n",
      "Starting trail 80 ...\n",
      "Starting trail 90 ...\n",
      "=========================\n",
      "151 errors: 65 false positive(s), 86 false negative(s)\n",
      "accuracy: 99.61 %\n",
      "||x|| = 8.0 >= ||recovered_x||? True\n",
      "||x|| = 7.0 >= ||recovered_x||? True\n",
      "||x|| = 10.0 >= ||recovered_x||? True\n",
      "||x|| = 10.0 >= ||recovered_x||? True\n",
      "||x|| = 6.0 >= ||recovered_x||? True\n",
      "||x|| = 7.0 >= ||recovered_x||? True\n",
      "||x|| = 8.0 >= ||recovered_x||? True\n",
      "||x|| = 6.0 >= ||recovered_x||? True\n",
      "||x|| = 10.0 >= ||recovered_x||? True\n",
      "||x|| = 5.0 >= ||recovered_x||? True\n",
      "||x|| = 7.0 >= ||recovered_x||? True\n",
      "||x|| = 7.0 >= ||recovered_x||? True\n",
      "||x|| = 7.0 >= ||recovered_x||? True\n",
      "||x|| = 7.0 >= ||recovered_x||? True\n",
      "||x|| = 8.0 >= ||recovered_x||? True\n",
      "||x|| = 11.0 >= ||recovered_x||? True\n",
      "||x|| = 7.0 >= ||recovered_x||? True\n",
      "||x|| = 9.0 >= ||recovered_x||? True\n"
     ]
    }
   ],
   "source": [
    "fpr, fnr, f = 0, 0, 4/384 \n",
    "file4 = '/Users/yiningliu/research/pooled-sampling/COVID-19-pooling/tests/data/x-f-4-384.csv' \n",
    "result = compare_truth_and_estimates(membership_matrix, file4, fpr, fnr, f)\n",
    "xs = result['xs']\n",
    "recovered_xs = result['recovered_xs']\n",
    "recovered_false_ps = result['recovered_false_ps']\n",
    "recovered_false_ns = result['recovered_false_ns']\n",
    "check_ILP_optimality(xs, recovered_xs)"
   ]
  },
  {
   "cell_type": "code",
   "execution_count": 13,
   "metadata": {},
   "outputs": [
    {
     "data": {
      "text/plain": [
       "(0.0, 0.0)"
      ]
     },
     "execution_count": 13,
     "metadata": {},
     "output_type": "execute_result"
    }
   ],
   "source": [
    "recovered_false_ps.sum(), recovered_false_ns.sum() # should be zeros"
   ]
  },
  {
   "cell_type": "markdown",
   "metadata": {},
   "source": [
    "# Test Result for f = 5/384"
   ]
  },
  {
   "cell_type": "code",
   "execution_count": null,
   "metadata": {},
   "outputs": [
    {
     "name": "stdout",
     "output_type": "stream",
     "text": [
      "Starting trail 0 ...\n",
      "Starting trail 10 ...\n",
      "Starting trail 20 ...\n"
     ]
    }
   ],
   "source": [
    "fpr, fnr, f = 0, 0, 5/384 \n",
    "file5 = '/Users/yiningliu/research/pooled-sampling/COVID-19-pooling/tests/data/x-f-5-384.csv' \n",
    "result = compare_truth_and_estimates(membership_matrix, file5, fpr, fnr, f)\n",
    "xs = result['xs']\n",
    "recovered_xs = result['recovered_xs']\n",
    "recovered_false_ps = result['recovered_false_ps']\n",
    "recovered_false_ns = result['recovered_false_ns']\n",
    "check_ILP_optimality(xs, recovered_xs)"
   ]
  },
  {
   "cell_type": "code",
   "execution_count": 16,
   "metadata": {},
   "outputs": [
    {
     "data": {
      "text/plain": [
       "(0.0, 0.0)"
      ]
     },
     "execution_count": 16,
     "metadata": {},
     "output_type": "execute_result"
    }
   ],
   "source": [
    "recovered_false_ps.sum(), recovered_false_ns.sum() # should be zeros"
   ]
  },
  {
   "cell_type": "markdown",
   "metadata": {},
   "source": [
    "### Check incorrect recovery of four positives "
   ]
  },
  {
   "cell_type": "code",
   "execution_count": 27,
   "metadata": {},
   "outputs": [
    {
     "name": "stdout",
     "output_type": "stream",
     "text": [
      "19\n"
     ]
    }
   ],
   "source": [
    "for trial in range(100):\n",
    "        x, recovered_x = xs[:, trial], recovered_xs[:, trial] \n",
    "        if (x != recovered_x).any() and x.sum() < 5: \n",
    "            print(trial)\n",
    "            \n",
    "            break"
   ]
  },
  {
   "cell_type": "code",
   "execution_count": 20,
   "metadata": {},
   "outputs": [
    {
     "data": {
      "text/plain": [
       "4.0"
      ]
     },
     "execution_count": 20,
     "metadata": {},
     "output_type": "execute_result"
    }
   ],
   "source": [
    "x.sum()"
   ]
  },
  {
   "cell_type": "code",
   "execution_count": 21,
   "metadata": {},
   "outputs": [
    {
     "data": {
      "text/plain": [
       "4.0"
      ]
     },
     "execution_count": 21,
     "metadata": {},
     "output_type": "execute_result"
    }
   ],
   "source": [
    "recovered_x.sum()"
   ]
  },
  {
   "cell_type": "code",
   "execution_count": 28,
   "metadata": {},
   "outputs": [
    {
     "data": {
      "text/plain": [
       "array([False,  True,  True,  True, False,  True,  True,  True, False,\n",
       "        True,  True,  True,  True, False,  True,  True,  True, False,\n",
       "        True,  True,  True,  True,  True, False, False,  True,  True,\n",
       "        True,  True,  True,  True, False,  True,  True,  True,  True,\n",
       "        True,  True,  True,  True,  True,  True,  True,  True, False,\n",
       "       False,  True,  True])"
      ]
     },
     "execution_count": 28,
     "metadata": {},
     "output_type": "execute_result"
    }
   ],
   "source": [
    "(Mx == Mxprime)"
   ]
  },
  {
   "cell_type": "markdown",
   "metadata": {},
   "source": [
    "# Test using Random Measurement Matrix with row weight = 48\n",
    "Randomly choose 48 nonzero entries for each row. "
   ]
  },
  {
   "cell_type": "code",
   "execution_count": 22,
   "metadata": {},
   "outputs": [],
   "source": [
    "def generate_const_row_weight_random_M(m, shape):\n",
    "    \"\"\"m is the row weight.\"\"\"\n",
    "    random_membership_matrix = np.zeros(shape)\n",
    "    num_pools, num_samples = random_membership_matrix.shape\n",
    "    for i in range(num_pools):\n",
    "        indices = np.random.choice(num_samples, m, replace=False)\n",
    "        for index in indices:\n",
    "            random_membership_matrix[i, index] = 1 \n",
    "    return random_membership_matrix"
   ]
  },
  {
   "cell_type": "code",
   "execution_count": 33,
   "metadata": {},
   "outputs": [],
   "source": [
    "def test_random_M(m, k, n, T, num_trails, print_every=5): \n",
    "    \"\"\"\n",
    "    m: constant row weight\n",
    "    k: expected number of positives among 384 samples\n",
    "    n: number of samples\n",
    "    T: number of tests \n",
    "    num_trails: test num_trails random membership matrices\n",
    "    \n",
    "    returns: average accuracy \n",
    "    \"\"\"\n",
    "    fpr, fnr, f = 0, 0, k/384\n",
    "    file = '/Users/yiningliu/research/pooled-sampling/COVID-19-pooling/tests/data/x-f-%s-384.csv' % k \n",
    "    num_errors = []\n",
    "    for i in range(num_trails): \n",
    "        if i % print_every == 0:\n",
    "            print(\"Starting trail %s\" % i) \n",
    "        matrix = generate_const_row_weight_random_M(m, shape=(T, n))\n",
    "        result = compare_truth_and_estimates(matrix, file, fpr, fnr, f, verbose=True)\n",
    "        num_errors.append(result['num_errors']) \n",
    "        check_ILP_optimality(result['xs'], result['recovered_xs'], verbose=True)\n",
    "    average_errors = np.average(num_errors)\n",
    "    \n",
    "    print(\"======================\")  \n",
    "    print(\"Below is the test result for constant row weight = %s, infection rate %s/384\" % (m, k)) \n",
    "    print(\"The result is based on %s simulations.\" % num_trails) \n",
    "    print(\"Average number of total errors: %s\" % average_errors)\n",
    "    print(\"======================\") \n",
    "    # print(\"Average Accuracy: %.2f %%\" % (average_errors /  * 100))\n",
    "    # return average_errors \n",
    "    return average_errors"
   ]
  },
  {
   "cell_type": "markdown",
   "metadata": {},
   "source": [
    "# Test Result for f = 1/384, 2/384, 3/384, 4/384, 5/384"
   ]
  },
  {
   "cell_type": "code",
   "execution_count": 32,
   "metadata": {},
   "outputs": [
    {
     "name": "stdout",
     "output_type": "stream",
     "text": [
      "Starting trail 0\n",
      "Starting trail 5\n",
      "======================\n",
      "Below is the test result for constant row weight = 48, infection rate 1/384\n",
      "The result is based on 10 simulations.\n",
      "======================\n",
      "Average Accuracy: 99.99 %\n"
     ]
    }
   ],
   "source": [
    "test_random_M(48, 1, 10) "
   ]
  },
  {
   "cell_type": "code",
   "execution_count": 33,
   "metadata": {},
   "outputs": [
    {
     "name": "stdout",
     "output_type": "stream",
     "text": [
      "Starting trail 0\n",
      "Starting trail 5\n",
      "======================\n",
      "Below is the test result for constant row weight = 48, infection rate 2/384\n",
      "The result is based on 10 simulations.\n",
      "======================\n",
      "Average Accuracy: 99.97 %\n"
     ]
    }
   ],
   "source": [
    "test_random_M(48, 2, 10) "
   ]
  },
  {
   "cell_type": "code",
   "execution_count": 34,
   "metadata": {},
   "outputs": [
    {
     "name": "stdout",
     "output_type": "stream",
     "text": [
      "Starting trail 0\n",
      "Starting trail 5\n",
      "======================\n",
      "Below is the test result for constant row weight = 48, infection rate 3/384\n",
      "The result is based on 10 simulations.\n",
      "======================\n",
      "Average Accuracy: 99.85 %\n"
     ]
    }
   ],
   "source": [
    "test_random_M(48, 3, 10) "
   ]
  },
  {
   "cell_type": "code",
   "execution_count": 35,
   "metadata": {},
   "outputs": [
    {
     "name": "stdout",
     "output_type": "stream",
     "text": [
      "Starting trail 0\n",
      "Starting trail 5\n",
      "======================\n",
      "Below is the test result for constant row weight = 48, infection rate 4/384\n",
      "The result is based on 10 simulations.\n",
      "======================\n",
      "Average Accuracy: 99.60 %\n"
     ]
    }
   ],
   "source": [
    "test_random_M(48, 4, 10) "
   ]
  },
  {
   "cell_type": "code",
   "execution_count": 36,
   "metadata": {},
   "outputs": [
    {
     "name": "stdout",
     "output_type": "stream",
     "text": [
      "Starting trail 0\n",
      "Starting trail 1\n",
      "Starting trail 2\n",
      "Starting trail 3\n",
      "Starting trail 4\n",
      "Starting trail 5\n",
      "Starting trail 6\n",
      "Starting trail 7\n",
      "Starting trail 8\n",
      "Starting trail 9\n",
      "======================\n",
      "Below is the test result for constant row weight = 48, infection rate 5/384\n",
      "The result is based on 10 simulations.\n",
      "======================\n",
      "Average Accuracy: 99.38 %\n"
     ]
    }
   ],
   "source": [
    "test_random_M(48, 5, 10, print_every=1) "
   ]
  },
  {
   "cell_type": "markdown",
   "metadata": {},
   "source": [
    "# Test using Random Measurement Matrix with various row weight for f = 5/384"
   ]
  },
  {
   "cell_type": "code",
   "execution_count": 12,
   "metadata": {},
   "outputs": [
    {
     "data": {
      "text/plain": [
       "52.88637282657267"
      ]
     },
     "execution_count": 12,
     "metadata": {},
     "output_type": "execute_result"
    }
   ],
   "source": [
    "optimal_pool_size(f=5/384, fnr=0, fpr=0)"
   ]
  },
  {
   "cell_type": "code",
   "execution_count": 15,
   "metadata": {},
   "outputs": [],
   "source": [
    "row_weights = [40 + 2 * i for i in range(10)]"
   ]
  },
  {
   "cell_type": "code",
   "execution_count": 16,
   "metadata": {},
   "outputs": [
    {
     "data": {
      "text/plain": [
       "[40, 42, 44, 46, 48, 50, 52, 54, 56, 58]"
      ]
     },
     "execution_count": 16,
     "metadata": {},
     "output_type": "execute_result"
    }
   ],
   "source": [
    "row_weights"
   ]
  },
  {
   "cell_type": "code",
   "execution_count": 35,
   "metadata": {},
   "outputs": [
    {
     "name": "stdout",
     "output_type": "stream",
     "text": [
      "Starting trail 0\n",
      "Starting trail 1\n",
      "Starting trail 2\n",
      "Starting trail 3\n",
      "Starting trail 4\n",
      "Starting trail 5\n",
      "Starting trail 6\n",
      "Starting trail 7\n",
      "Starting trail 8\n",
      "Starting trail 9\n",
      "======================\n",
      "Below is the test result for constant row weight = 40, infection rate 5/384\n",
      "The result is based on 10 simulations.\n",
      "Average number of total errors: 224.0\n",
      "======================\n",
      "Starting trail 0\n",
      "Starting trail 1\n",
      "Starting trail 2\n",
      "Starting trail 3\n",
      "Starting trail 4\n",
      "Starting trail 5\n",
      "Starting trail 6\n",
      "Starting trail 7\n",
      "Starting trail 8\n",
      "Starting trail 9\n",
      "======================\n",
      "Below is the test result for constant row weight = 42, infection rate 5/384\n",
      "The result is based on 10 simulations.\n",
      "Average number of total errors: 229.5\n",
      "======================\n",
      "Starting trail 0\n",
      "Starting trail 1\n",
      "Starting trail 2\n",
      "Starting trail 3\n",
      "Starting trail 4\n",
      "Starting trail 5\n",
      "Starting trail 6\n",
      "Starting trail 7\n",
      "Starting trail 8\n",
      "Starting trail 9\n",
      "======================\n",
      "Below is the test result for constant row weight = 44, infection rate 5/384\n",
      "The result is based on 10 simulations.\n",
      "Average number of total errors: 238.1\n",
      "======================\n",
      "Starting trail 0\n",
      "Starting trail 1\n",
      "Starting trail 2\n",
      "Starting trail 3\n",
      "Starting trail 4\n",
      "Starting trail 5\n",
      "Starting trail 6\n",
      "Starting trail 7\n",
      "Starting trail 8\n",
      "Starting trail 9\n",
      "======================\n",
      "Below is the test result for constant row weight = 46, infection rate 5/384\n",
      "The result is based on 10 simulations.\n",
      "Average number of total errors: 244.0\n",
      "======================\n",
      "Starting trail 0\n",
      "Starting trail 1\n",
      "Starting trail 2\n",
      "Starting trail 3\n",
      "Starting trail 4\n",
      "Starting trail 5\n",
      "Starting trail 6\n",
      "Starting trail 7\n",
      "Starting trail 8\n",
      "Starting trail 9\n",
      "======================\n",
      "Below is the test result for constant row weight = 48, infection rate 5/384\n",
      "The result is based on 10 simulations.\n",
      "Average number of total errors: 261.4\n",
      "======================\n",
      "Starting trail 0\n",
      "Starting trail 1\n",
      "Starting trail 2\n",
      "Starting trail 3\n",
      "Starting trail 4\n",
      "Starting trail 5\n",
      "Starting trail 6\n",
      "Starting trail 7\n",
      "Starting trail 8\n",
      "Starting trail 9\n",
      "======================\n",
      "Below is the test result for constant row weight = 50, infection rate 5/384\n",
      "The result is based on 10 simulations.\n",
      "Average number of total errors: 250.0\n",
      "======================\n",
      "Starting trail 0\n",
      "Starting trail 1\n",
      "Starting trail 2\n",
      "Starting trail 3\n",
      "Starting trail 4\n",
      "Starting trail 5\n",
      "Starting trail 6\n",
      "Starting trail 7\n",
      "Starting trail 8\n",
      "Starting trail 9\n",
      "======================\n",
      "Below is the test result for constant row weight = 52, infection rate 5/384\n",
      "The result is based on 10 simulations.\n",
      "Average number of total errors: 255.6\n",
      "======================\n",
      "Starting trail 0\n",
      "Starting trail 1\n",
      "Starting trail 2\n",
      "Starting trail 3\n",
      "Starting trail 4\n",
      "Starting trail 5\n",
      "Starting trail 6\n",
      "Starting trail 7\n",
      "Starting trail 8\n",
      "Starting trail 9\n",
      "======================\n",
      "Below is the test result for constant row weight = 54, infection rate 5/384\n",
      "The result is based on 10 simulations.\n",
      "Average number of total errors: 258.0\n",
      "======================\n",
      "Starting trail 0\n",
      "Starting trail 1\n",
      "Starting trail 2\n",
      "Starting trail 3\n",
      "Starting trail 4\n",
      "Starting trail 5\n",
      "Starting trail 6\n",
      "Starting trail 7\n",
      "Starting trail 8\n",
      "Starting trail 9\n",
      "======================\n",
      "Below is the test result for constant row weight = 56, infection rate 5/384\n",
      "The result is based on 10 simulations.\n",
      "Average number of total errors: 280.9\n",
      "======================\n",
      "Starting trail 0\n",
      "Starting trail 1\n",
      "Starting trail 2\n",
      "Starting trail 3\n",
      "Starting trail 4\n",
      "Starting trail 5\n",
      "Starting trail 6\n",
      "Starting trail 7\n",
      "Starting trail 8\n",
      "Starting trail 9\n",
      "======================\n",
      "Below is the test result for constant row weight = 58, infection rate 5/384\n",
      "The result is based on 10 simulations.\n",
      "Average number of total errors: 284.5\n",
      "======================\n"
     ]
    }
   ],
   "source": [
    "average_errors = []\n",
    "for row_weight in row_weights:\n",
    "    average_errors.append(test_random_M(m=row_weight, k=5, n=384, T=48, num_trails=10, print_every=1)) "
   ]
  },
  {
   "cell_type": "code",
   "execution_count": 36,
   "metadata": {},
   "outputs": [
    {
     "data": {
      "text/plain": [
       "[224.0, 229.5, 238.1, 244.0, 261.4, 250.0, 255.6, 258.0, 280.9, 284.5]"
      ]
     },
     "execution_count": 36,
     "metadata": {},
     "output_type": "execute_result"
    }
   ],
   "source": [
    "average_errors"
   ]
  },
  {
   "cell_type": "code",
   "execution_count": 37,
   "metadata": {},
   "outputs": [],
   "source": [
    "import matplotlib.pyplot as plt"
   ]
  },
  {
   "cell_type": "code",
   "execution_count": 38,
   "metadata": {},
   "outputs": [
    {
     "data": {
      "text/plain": [
       "<matplotlib.collections.PathCollection at 0x7fb2882f0e20>"
      ]
     },
     "execution_count": 38,
     "metadata": {},
     "output_type": "execute_result"
    },
    {
     "data": {
      "image/png": "[encoded data removed]",
      "text/plain": [
       "<Figure size 432x288 with 1 Axes>"
      ]
     },
     "metadata": {
      "needs_background": "light"
     },
     "output_type": "display_data"
    }
   ],
   "source": [
    "plt.scatter(row_weights, average_errors)"
   ]
  },
  {
   "cell_type": "markdown",
   "metadata": {},
   "source": [
    "# Experiment with a wider range of row weights "
   ]
  },
  {
   "cell_type": "code",
   "execution_count": 43,
   "metadata": {},
   "outputs": [],
   "source": [
    "row_weights = [i for i in range(1, 61)]"
   ]
  },
  {
   "cell_type": "code",
   "execution_count": 45,
   "metadata": {},
   "outputs": [
    {
     "name": "stdout",
     "output_type": "stream",
     "text": [
      "Starting trail 0\n",
      "Starting trail 10\n",
      "Starting trail 20\n",
      "Starting trail 30\n",
      "Starting trail 40\n",
      "======================\n",
      "Below is the test result for constant row weight = 1, infection rate 5/384\n",
      "The result is based on 50 simulations.\n",
      "Average number of total errors: 462.14\n",
      "======================\n",
      "Starting trail 0\n",
      "Starting trail 10\n",
      "Starting trail 20\n",
      "Starting trail 30\n",
      "Starting trail 40\n",
      "======================\n",
      "Below is the test result for constant row weight = 2, infection rate 5/384\n",
      "The result is based on 50 simulations.\n",
      "Average number of total errors: 487.74\n",
      "======================\n",
      "Starting trail 0\n",
      "Starting trail 10\n",
      "Starting trail 20\n",
      "Starting trail 30\n",
      "Starting trail 40\n",
      "======================\n",
      "Below is the test result for constant row weight = 3, infection rate 5/384\n",
      "The result is based on 50 simulations.\n",
      "Average number of total errors: 500.64\n",
      "======================\n",
      "Starting trail 0\n",
      "Starting trail 10\n",
      "Starting trail 20\n",
      "Starting trail 30\n",
      "Starting trail 40\n",
      "======================\n",
      "Below is the test result for constant row weight = 4, infection rate 5/384\n",
      "The result is based on 50 simulations.\n",
      "Average number of total errors: 515.18\n",
      "======================\n",
      "Starting trail 0\n",
      "Starting trail 10\n",
      "Starting trail 20\n",
      "Starting trail 30\n",
      "Starting trail 40\n",
      "======================\n",
      "Below is the test result for constant row weight = 5, infection rate 5/384\n",
      "The result is based on 50 simulations.\n",
      "Average number of total errors: 509.6\n",
      "======================\n",
      "Starting trail 0\n",
      "Starting trail 10\n",
      "Starting trail 20\n",
      "Starting trail 30\n",
      "Starting trail 40\n",
      "======================\n",
      "Below is the test result for constant row weight = 6, infection rate 5/384\n",
      "The result is based on 50 simulations.\n",
      "Average number of total errors: 507.14\n",
      "======================\n",
      "Starting trail 0\n",
      "Starting trail 10\n",
      "Starting trail 20\n",
      "Starting trail 30\n",
      "Starting trail 40\n",
      "======================\n",
      "Below is the test result for constant row weight = 7, infection rate 5/384\n",
      "The result is based on 50 simulations.\n",
      "Average number of total errors: 498.6\n",
      "======================\n",
      "Starting trail 0\n",
      "Starting trail 10\n",
      "Starting trail 20\n",
      "Starting trail 30\n",
      "Starting trail 40\n",
      "======================\n",
      "Below is the test result for constant row weight = 8, infection rate 5/384\n",
      "The result is based on 50 simulations.\n",
      "Average number of total errors: 489.02\n",
      "======================\n",
      "Starting trail 0\n",
      "Starting trail 10\n",
      "Starting trail 20\n",
      "Starting trail 30\n",
      "Starting trail 40\n",
      "======================\n",
      "Below is the test result for constant row weight = 9, infection rate 5/384\n",
      "The result is based on 50 simulations.\n",
      "Average number of total errors: 468.72\n",
      "======================\n",
      "Starting trail 0\n",
      "Starting trail 10\n",
      "Starting trail 20\n",
      "Starting trail 30\n",
      "Starting trail 40\n",
      "======================\n",
      "Below is the test result for constant row weight = 10, infection rate 5/384\n",
      "The result is based on 50 simulations.\n",
      "Average number of total errors: 454.12\n",
      "======================\n",
      "Starting trail 0\n",
      "Starting trail 10\n",
      "Starting trail 20\n",
      "Starting trail 30\n",
      "Starting trail 40\n",
      "======================\n",
      "Below is the test result for constant row weight = 11, infection rate 5/384\n",
      "The result is based on 50 simulations.\n",
      "Average number of total errors: 438.22\n",
      "======================\n",
      "Starting trail 0\n",
      "Starting trail 10\n",
      "Starting trail 20\n",
      "Starting trail 30\n",
      "Starting trail 40\n",
      "======================\n",
      "Below is the test result for constant row weight = 12, infection rate 5/384\n",
      "The result is based on 50 simulations.\n",
      "Average number of total errors: 424.14\n",
      "======================\n",
      "Starting trail 0\n",
      "Starting trail 10\n",
      "Starting trail 20\n",
      "Starting trail 30\n",
      "Starting trail 40\n",
      "======================\n",
      "Below is the test result for constant row weight = 13, infection rate 5/384\n",
      "The result is based on 50 simulations.\n",
      "Average number of total errors: 405.5\n",
      "======================\n",
      "Starting trail 0\n",
      "Starting trail 10\n",
      "Starting trail 20\n",
      "Starting trail 30\n",
      "Starting trail 40\n",
      "======================\n",
      "Below is the test result for constant row weight = 14, infection rate 5/384\n",
      "The result is based on 50 simulations.\n",
      "Average number of total errors: 394.68\n",
      "======================\n",
      "Starting trail 0\n",
      "Starting trail 10\n",
      "Starting trail 20\n",
      "Starting trail 30\n",
      "Starting trail 40\n",
      "======================\n",
      "Below is the test result for constant row weight = 15, infection rate 5/384\n",
      "The result is based on 50 simulations.\n",
      "Average number of total errors: 384.04\n",
      "======================\n",
      "Starting trail 0\n",
      "Starting trail 10\n",
      "Starting trail 20\n",
      "Starting trail 30\n",
      "Starting trail 40\n",
      "======================\n",
      "Below is the test result for constant row weight = 16, infection rate 5/384\n",
      "The result is based on 50 simulations.\n",
      "Average number of total errors: 366.68\n",
      "======================\n",
      "Starting trail 0\n",
      "Starting trail 10\n",
      "Starting trail 20\n",
      "Starting trail 30\n",
      "Starting trail 40\n",
      "======================\n",
      "Below is the test result for constant row weight = 17, infection rate 5/384\n",
      "The result is based on 50 simulations.\n",
      "Average number of total errors: 351.58\n",
      "======================\n",
      "Starting trail 0\n",
      "Starting trail 10\n",
      "Starting trail 20\n",
      "Starting trail 30\n",
      "Starting trail 40\n",
      "======================\n",
      "Below is the test result for constant row weight = 18, infection rate 5/384\n",
      "The result is based on 50 simulations.\n",
      "Average number of total errors: 337.66\n",
      "======================\n",
      "Starting trail 0\n",
      "Starting trail 10\n",
      "Starting trail 20\n",
      "Starting trail 30\n",
      "Starting trail 40\n",
      "======================\n",
      "Below is the test result for constant row weight = 19, infection rate 5/384\n",
      "The result is based on 50 simulations.\n",
      "Average number of total errors: 327.04\n",
      "======================\n",
      "Starting trail 0\n",
      "Starting trail 10\n",
      "Starting trail 20\n",
      "Starting trail 30\n",
      "Starting trail 40\n",
      "======================\n",
      "Below is the test result for constant row weight = 20, infection rate 5/384\n",
      "The result is based on 50 simulations.\n",
      "Average number of total errors: 313.78\n",
      "======================\n",
      "Starting trail 0\n",
      "Starting trail 10\n",
      "Starting trail 20\n",
      "Starting trail 30\n",
      "Starting trail 40\n",
      "======================\n",
      "Below is the test result for constant row weight = 21, infection rate 5/384\n",
      "The result is based on 50 simulations.\n",
      "Average number of total errors: 308.04\n",
      "======================\n",
      "Starting trail 0\n",
      "Starting trail 10\n",
      "Starting trail 20\n",
      "Starting trail 30\n",
      "Starting trail 40\n",
      "======================\n",
      "Below is the test result for constant row weight = 22, infection rate 5/384\n",
      "The result is based on 50 simulations.\n",
      "Average number of total errors: 297.42\n",
      "======================\n",
      "Starting trail 0\n",
      "Starting trail 10\n",
      "Starting trail 20\n",
      "Starting trail 30\n",
      "Starting trail 40\n",
      "======================\n",
      "Below is the test result for constant row weight = 23, infection rate 5/384\n",
      "The result is based on 50 simulations.\n",
      "Average number of total errors: 290.94\n",
      "======================\n",
      "Starting trail 0\n",
      "Starting trail 10\n",
      "Starting trail 20\n",
      "Starting trail 30\n",
      "Starting trail 40\n",
      "======================\n",
      "Below is the test result for constant row weight = 24, infection rate 5/384\n",
      "The result is based on 50 simulations.\n",
      "Average number of total errors: 279.86\n",
      "======================\n",
      "Starting trail 0\n",
      "Starting trail 10\n",
      "Starting trail 20\n",
      "Starting trail 30\n",
      "Starting trail 40\n",
      "======================\n",
      "Below is the test result for constant row weight = 25, infection rate 5/384\n",
      "The result is based on 50 simulations.\n",
      "Average number of total errors: 272.32\n",
      "======================\n",
      "Starting trail 0\n",
      "Starting trail 10\n",
      "Starting trail 20\n",
      "Starting trail 30\n",
      "Starting trail 40\n",
      "======================\n",
      "Below is the test result for constant row weight = 26, infection rate 5/384\n",
      "The result is based on 50 simulations.\n",
      "Average number of total errors: 266.36\n",
      "======================\n",
      "Starting trail 0\n",
      "Starting trail 10\n",
      "Starting trail 20\n",
      "Starting trail 30\n",
      "Starting trail 40\n",
      "======================\n",
      "Below is the test result for constant row weight = 27, infection rate 5/384\n",
      "The result is based on 50 simulations.\n",
      "Average number of total errors: 263.86\n",
      "======================\n",
      "Starting trail 0\n",
      "Starting trail 10\n",
      "Starting trail 20\n",
      "Starting trail 30\n",
      "Starting trail 40\n",
      "======================\n",
      "Below is the test result for constant row weight = 28, infection rate 5/384\n",
      "The result is based on 50 simulations.\n",
      "Average number of total errors: 253.62\n",
      "======================\n",
      "Starting trail 0\n",
      "Starting trail 10\n",
      "Starting trail 20\n",
      "Starting trail 30\n",
      "Starting trail 40\n",
      "======================\n",
      "Below is the test result for constant row weight = 29, infection rate 5/384\n",
      "The result is based on 50 simulations.\n",
      "Average number of total errors: 249.8\n",
      "======================\n",
      "Starting trail 0\n"
     ]
    },
    {
     "name": "stdout",
     "output_type": "stream",
     "text": [
      "Starting trail 10\n",
      "Starting trail 20\n",
      "Starting trail 30\n",
      "Starting trail 40\n",
      "======================\n",
      "Below is the test result for constant row weight = 30, infection rate 5/384\n",
      "The result is based on 50 simulations.\n",
      "Average number of total errors: 250.04\n",
      "======================\n",
      "Starting trail 0\n",
      "Starting trail 10\n",
      "Starting trail 20\n",
      "Starting trail 30\n",
      "Starting trail 40\n",
      "======================\n",
      "Below is the test result for constant row weight = 31, infection rate 5/384\n",
      "The result is based on 50 simulations.\n",
      "Average number of total errors: 243.44\n",
      "======================\n",
      "Starting trail 0\n",
      "Starting trail 10\n",
      "Starting trail 20\n",
      "Starting trail 30\n",
      "Starting trail 40\n",
      "======================\n",
      "Below is the test result for constant row weight = 32, infection rate 5/384\n",
      "The result is based on 50 simulations.\n",
      "Average number of total errors: 237.16\n",
      "======================\n",
      "Starting trail 0\n",
      "Starting trail 10\n",
      "Starting trail 20\n",
      "Starting trail 30\n",
      "Starting trail 40\n",
      "======================\n",
      "Below is the test result for constant row weight = 33, infection rate 5/384\n",
      "The result is based on 50 simulations.\n",
      "Average number of total errors: 236.78\n",
      "======================\n",
      "Starting trail 0\n",
      "Starting trail 10\n",
      "Starting trail 20\n",
      "Starting trail 30\n",
      "Starting trail 40\n",
      "======================\n",
      "Below is the test result for constant row weight = 34, infection rate 5/384\n",
      "The result is based on 50 simulations.\n",
      "Average number of total errors: 234.46\n",
      "======================\n",
      "Starting trail 0\n",
      "Starting trail 10\n",
      "Starting trail 20\n",
      "Starting trail 30\n",
      "Starting trail 40\n",
      "======================\n",
      "Below is the test result for constant row weight = 35, infection rate 5/384\n",
      "The result is based on 50 simulations.\n",
      "Average number of total errors: 231.86\n",
      "======================\n",
      "Starting trail 0\n",
      "Starting trail 10\n",
      "Starting trail 20\n",
      "Starting trail 30\n",
      "Starting trail 40\n",
      "======================\n",
      "Below is the test result for constant row weight = 36, infection rate 5/384\n",
      "The result is based on 50 simulations.\n",
      "Average number of total errors: 230.88\n",
      "======================\n",
      "Starting trail 0\n",
      "Starting trail 10\n",
      "Starting trail 20\n",
      "Starting trail 30\n",
      "Starting trail 40\n",
      "======================\n",
      "Below is the test result for constant row weight = 37, infection rate 5/384\n",
      "The result is based on 50 simulations.\n",
      "Average number of total errors: 231.76\n",
      "======================\n",
      "Starting trail 0\n",
      "Starting trail 10\n",
      "Starting trail 20\n",
      "Starting trail 30\n",
      "Starting trail 40\n",
      "======================\n",
      "Below is the test result for constant row weight = 38, infection rate 5/384\n",
      "The result is based on 50 simulations.\n",
      "Average number of total errors: 232.9\n",
      "======================\n",
      "Starting trail 0\n",
      "Starting trail 10\n",
      "Starting trail 20\n",
      "Starting trail 30\n",
      "Starting trail 40\n",
      "======================\n",
      "Below is the test result for constant row weight = 39, infection rate 5/384\n",
      "The result is based on 50 simulations.\n",
      "Average number of total errors: 228.56\n",
      "======================\n",
      "Starting trail 0\n",
      "Starting trail 10\n",
      "Starting trail 20\n",
      "Starting trail 30\n",
      "Starting trail 40\n",
      "======================\n",
      "Below is the test result for constant row weight = 40, infection rate 5/384\n",
      "The result is based on 50 simulations.\n",
      "Average number of total errors: 231.14\n",
      "======================\n",
      "Starting trail 0\n",
      "Starting trail 10\n",
      "Starting trail 20\n",
      "Starting trail 30\n",
      "Starting trail 40\n",
      "======================\n",
      "Below is the test result for constant row weight = 41, infection rate 5/384\n",
      "The result is based on 50 simulations.\n",
      "Average number of total errors: 233.1\n",
      "======================\n",
      "Starting trail 0\n",
      "Starting trail 10\n",
      "Starting trail 20\n",
      "Starting trail 30\n",
      "Starting trail 40\n",
      "======================\n",
      "Below is the test result for constant row weight = 42, infection rate 5/384\n",
      "The result is based on 50 simulations.\n",
      "Average number of total errors: 230.64\n",
      "======================\n",
      "Starting trail 0\n",
      "Starting trail 10\n",
      "Starting trail 20\n",
      "Starting trail 30\n",
      "Starting trail 40\n",
      "======================\n",
      "Below is the test result for constant row weight = 43, infection rate 5/384\n",
      "The result is based on 50 simulations.\n",
      "Average number of total errors: 231.84\n",
      "======================\n",
      "Starting trail 0\n",
      "Starting trail 10\n",
      "Starting trail 20\n",
      "Starting trail 30\n",
      "Starting trail 40\n",
      "======================\n",
      "Below is the test result for constant row weight = 44, infection rate 5/384\n",
      "The result is based on 50 simulations.\n",
      "Average number of total errors: 237.48\n",
      "======================\n",
      "Starting trail 0\n",
      "Starting trail 10\n",
      "Starting trail 20\n",
      "Starting trail 30\n",
      "Starting trail 40\n",
      "======================\n",
      "Below is the test result for constant row weight = 45, infection rate 5/384\n",
      "The result is based on 50 simulations.\n",
      "Average number of total errors: 242.88\n",
      "======================\n",
      "Starting trail 0\n",
      "Starting trail 10\n",
      "Starting trail 20\n",
      "Starting trail 30\n",
      "Starting trail 40\n",
      "======================\n",
      "Below is the test result for constant row weight = 46, infection rate 5/384\n",
      "The result is based on 50 simulations.\n",
      "Average number of total errors: 242.04\n",
      "======================\n",
      "Starting trail 0\n",
      "Starting trail 10\n",
      "Starting trail 20\n",
      "Starting trail 30\n",
      "Starting trail 40\n",
      "======================\n",
      "Below is the test result for constant row weight = 47, infection rate 5/384\n",
      "The result is based on 50 simulations.\n",
      "Average number of total errors: 244.28\n",
      "======================\n",
      "Starting trail 0\n",
      "Starting trail 10\n",
      "Starting trail 20\n",
      "Starting trail 30\n",
      "Starting trail 40\n",
      "======================\n",
      "Below is the test result for constant row weight = 48, infection rate 5/384\n",
      "The result is based on 50 simulations.\n",
      "Average number of total errors: 249.64\n",
      "======================\n",
      "Starting trail 0\n",
      "Starting trail 10\n",
      "Starting trail 20\n",
      "Starting trail 30\n",
      "Starting trail 40\n",
      "======================\n",
      "Below is the test result for constant row weight = 49, infection rate 5/384\n",
      "The result is based on 50 simulations.\n",
      "Average number of total errors: 248.98\n",
      "======================\n",
      "Starting trail 0\n",
      "Starting trail 10\n",
      "Starting trail 20\n",
      "Starting trail 30\n",
      "Starting trail 40\n",
      "======================\n",
      "Below is the test result for constant row weight = 50, infection rate 5/384\n",
      "The result is based on 50 simulations.\n",
      "Average number of total errors: 250.22\n",
      "======================\n",
      "Starting trail 0\n",
      "Starting trail 10\n",
      "Starting trail 20\n",
      "Starting trail 30\n",
      "Starting trail 40\n",
      "======================\n",
      "Below is the test result for constant row weight = 51, infection rate 5/384\n",
      "The result is based on 50 simulations.\n",
      "Average number of total errors: 257.46\n",
      "======================\n",
      "Starting trail 0\n",
      "Starting trail 10\n",
      "Starting trail 20\n",
      "Starting trail 30\n",
      "Starting trail 40\n",
      "======================\n",
      "Below is the test result for constant row weight = 52, infection rate 5/384\n",
      "The result is based on 50 simulations.\n",
      "Average number of total errors: 261.66\n",
      "======================\n",
      "Starting trail 0\n",
      "Starting trail 10\n",
      "Starting trail 20\n",
      "Starting trail 30\n",
      "Starting trail 40\n",
      "======================\n",
      "Below is the test result for constant row weight = 53, infection rate 5/384\n",
      "The result is based on 50 simulations.\n",
      "Average number of total errors: 265.88\n",
      "======================\n",
      "Starting trail 0\n",
      "Starting trail 10\n",
      "Starting trail 20\n",
      "Starting trail 30\n",
      "Starting trail 40\n",
      "======================\n",
      "Below is the test result for constant row weight = 54, infection rate 5/384\n",
      "The result is based on 50 simulations.\n",
      "Average number of total errors: 269.8\n",
      "======================\n",
      "Starting trail 0\n",
      "Starting trail 10\n",
      "Starting trail 20\n",
      "Starting trail 30\n",
      "Starting trail 40\n",
      "======================\n",
      "Below is the test result for constant row weight = 55, infection rate 5/384\n",
      "The result is based on 50 simulations.\n",
      "Average number of total errors: 272.24\n",
      "======================\n",
      "Starting trail 0\n",
      "Starting trail 10\n",
      "Starting trail 20\n",
      "Starting trail 30\n",
      "Starting trail 40\n",
      "======================\n",
      "Below is the test result for constant row weight = 56, infection rate 5/384\n",
      "The result is based on 50 simulations.\n",
      "Average number of total errors: 275.98\n",
      "======================\n",
      "Starting trail 0\n",
      "Starting trail 10\n",
      "Starting trail 20\n",
      "Starting trail 30\n",
      "Starting trail 40\n",
      "======================\n",
      "Below is the test result for constant row weight = 57, infection rate 5/384\n",
      "The result is based on 50 simulations.\n",
      "Average number of total errors: 280.96\n",
      "======================\n",
      "Starting trail 0\n",
      "Starting trail 10\n",
      "Starting trail 20\n",
      "Starting trail 30\n",
      "Starting trail 40\n",
      "======================\n",
      "Below is the test result for constant row weight = 58, infection rate 5/384\n",
      "The result is based on 50 simulations.\n",
      "Average number of total errors: 280.84\n",
      "======================\n",
      "Starting trail 0\n"
     ]
    },
    {
     "name": "stdout",
     "output_type": "stream",
     "text": [
      "Starting trail 10\n",
      "Starting trail 20\n",
      "Starting trail 30\n",
      "Starting trail 40\n",
      "======================\n",
      "Below is the test result for constant row weight = 59, infection rate 5/384\n",
      "The result is based on 50 simulations.\n",
      "Average number of total errors: 289.4\n",
      "======================\n",
      "Starting trail 0\n",
      "Starting trail 10\n",
      "Starting trail 20\n",
      "Starting trail 30\n",
      "Starting trail 40\n",
      "======================\n",
      "Below is the test result for constant row weight = 60, infection rate 5/384\n",
      "The result is based on 50 simulations.\n",
      "Average number of total errors: 293.18\n",
      "======================\n"
     ]
    }
   ],
   "source": [
    "average_errors = []\n",
    "for row_weight in row_weights:\n",
    "    average_errors.append(test_random_M(m=row_weight, k=5, n=384, T=48, num_trails=50, print_every=10)) "
   ]
  },
  {
   "cell_type": "code",
   "execution_count": 46,
   "metadata": {},
   "outputs": [
    {
     "data": {
      "text/plain": [
       "<matplotlib.collections.PathCollection at 0x7fb288d2c6d0>"
      ]
     },
     "execution_count": 46,
     "metadata": {},
     "output_type": "execute_result"
    },
    {
     "data": {
      "image/png": "[encoded data removed]",
      "text/plain": [
       "<Figure size 432x288 with 1 Axes>"
      ]
     },
     "metadata": {
      "needs_background": "light"
     },
     "output_type": "display_data"
    }
   ],
   "source": [
    "plt.scatter(row_weights, average_errors)"
   ]
  },
  {
   "cell_type": "code",
   "execution_count": 55,
   "metadata": {},
   "outputs": [
    {
     "name": "stdout",
     "output_type": "stream",
     "text": [
      "Optimal row weight is 38\n"
     ]
    }
   ],
   "source": [
    "print(\"Optimal row weight is %s\" % average_errors.index(np.min(average_errors)))"
   ]
  }
 ],
 "metadata": {
  "kernelspec": {
   "display_name": "Python 3",
   "language": "python",
   "name": "python3"
  },
  "language_info": {
   "codemirror_mode": {
    "name": "ipython",
    "version": 3
   },
   "file_extension": ".py",
   "mimetype": "text/x-python",
   "name": "python",
   "nbconvert_exporter": "python",
   "pygments_lexer": "ipython3",
   "version": "3.8.3"
  }
 },
 "nbformat": 4,
 "nbformat_minor": 4
}
