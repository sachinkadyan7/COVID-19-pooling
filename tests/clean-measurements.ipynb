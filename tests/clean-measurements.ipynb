{
 "cells": [
  {
   "cell_type": "code",
   "execution_count": 1,
   "metadata": {},
   "outputs": [],
   "source": [
    "import sys\n",
    "sys.path.insert(1, '/Users/yiningliu/research/pooled-sampling/COVID-19-pooling') # set this to your directory"
   ]
  },
  {
   "cell_type": "code",
   "execution_count": 2,
   "metadata": {},
   "outputs": [],
   "source": [
    "import numpy as np\n",
    "from numpy import genfromtxt\n",
    "import scipy.io\n",
    "from test import recover_pool_results\n",
    "from optimal_sizes import optimal_pool_size"
   ]
  },
  {
   "cell_type": "code",
   "execution_count": 3,
   "metadata": {},
   "outputs": [],
   "source": [
    "# this is the membership matrix by Shental et al. \n",
    "# download the file from https://github.com/NoamShental/PBEST/blob/master/mFiles/poolingMatrix.mat \n",
    "matrix_file = scipy.io.loadmat('/Users/yiningliu/research/pooled-sampling/COVID-19-pooling/tests/data/shental-poolingMatrix.mat')\n",
    "membership_matrix = matrix_file['poolingMatrix'] "
   ]
  },
  {
   "cell_type": "code",
   "execution_count": 4,
   "metadata": {},
   "outputs": [],
   "source": [
    "def compare_truth_and_estimates(membership_matrix, true_infection_vectors_file, fpr, fnr, f, verbose=False): \n",
    "    \"get ground truth from true_infection_vectors_file and attempt to recover the ground truth.\" \n",
    "    xs = genfromtxt(true_infection_vectors_file, delimiter=',')\n",
    "    result = {\"xs\": xs} \n",
    "    \n",
    "    pool_results = np.sign(np.matmul(membership_matrix, xs)) \n",
    "    recovered_xs, recovered_false_ps, recovered_false_ns = recover_pool_results(membership_matrix, pool_results, fpr, fnr, f, verbose) \n",
    "    \n",
    "    result[\"recovered_xs\"] = recovered_xs \n",
    "    result[\"recovered_false_ps\"] = recovered_false_ps \n",
    "    result[\"recovered_false_ns\"] = recovered_false_ns \n",
    "    \n",
    "    if not verbose: \n",
    "        print(\"=========================\") \n",
    "    \n",
    "    num_errors = (xs != recovered_xs).sum()\n",
    "    num_fp = ((xs == 0) * (recovered_xs == 1)).sum() \n",
    "    num_fn = ((xs == 1) * (recovered_xs == 0)).sum() \n",
    "    accuracy = (xs == recovered_xs).sum() / xs.size \n",
    "    \n",
    "    result[\"accuracy\"] = accuracy  \n",
    "    \n",
    "    if not verbose: \n",
    "        print(\"%s errors: %s false positive(s), %s false negative(s)\" % (num_errors, num_fp, num_fn))\n",
    "        print(\"accuracy: %.2f %%\" % (accuracy * 100))\n",
    "    \n",
    "    return result\n",
    "\n",
    "def check_ILP_optimality(xs, recovered_xs, verbose=False): \n",
    "    \"This is only for noiseless data. For noisy measurement experiments, need to include ||f|| and ||n|| in the objective.\"\n",
    "    _, num_trials = xs.shape\n",
    "    for trial in range(100):\n",
    "        x, recovered_x = xs[:, trial], recovered_xs[:, trial] \n",
    "        num_errors = (x != recovered_x).sum()\n",
    "        if num_errors != 0 and not verbose: \n",
    "            print(\"||x|| = %s >= ||recovered_x||? %s\" % (sum(x), sum(x) >= sum(recovered_x))) \n",
    "        elif num_errors != 0 and sum(x) < sum(recovered_x):\n",
    "            print(\"ILP solver fails to find the optimize the objective for trail %s\" % trail)"
   ]
  },
  {
   "cell_type": "markdown",
   "metadata": {},
   "source": [
    "# Test Result for f = 1/384"
   ]
  },
  {
   "cell_type": "code",
   "execution_count": 6,
   "metadata": {},
   "outputs": [
    {
     "name": "stdout",
     "output_type": "stream",
     "text": [
      "Starting trail 0 ...\n",
      "Starting trail 10 ...\n",
      "Starting trail 20 ...\n",
      "Starting trail 30 ...\n",
      "Starting trail 40 ...\n",
      "Starting trail 50 ...\n",
      "Starting trail 60 ...\n",
      "Starting trail 70 ...\n",
      "Starting trail 80 ...\n",
      "Starting trail 90 ...\n",
      "=========================\n",
      "0 errors: 0 false positive(s), 0 false negative(s)\n",
      "accuracy: 100.00 %\n"
     ]
    }
   ],
   "source": [
    "fpr, fnr, f = 0, 0, 1/384 \n",
    "file1 = '/Users/yiningliu/research/pooled-sampling/COVID-19-pooling/tests/data/x-f-1-384.csv' \n",
    "result = compare_truth_and_estimates(membership_matrix, file1, fpr, fnr, f)\n",
    "xs = result['xs']\n",
    "recovered_xs = result['recovered_xs']\n",
    "recovered_false_ps = result['recovered_false_ps']\n",
    "recovered_false_ns = result['recovered_false_ns']\n",
    "check_ILP_optimality(xs, recovered_xs)"
   ]
  },
  {
   "cell_type": "markdown",
   "metadata": {},
   "source": [
    "# Test Result for f = 2/384"
   ]
  },
  {
   "cell_type": "code",
   "execution_count": 7,
   "metadata": {},
   "outputs": [
    {
     "name": "stdout",
     "output_type": "stream",
     "text": [
      "Starting trail 0 ...\n",
      "Starting trail 10 ...\n",
      "Starting trail 20 ...\n",
      "Starting trail 30 ...\n",
      "Starting trail 40 ...\n",
      "Starting trail 50 ...\n",
      "Starting trail 60 ...\n",
      "Starting trail 70 ...\n",
      "Starting trail 80 ...\n",
      "Starting trail 90 ...\n",
      "=========================\n",
      "1 errors: 0 false positive(s), 1 false negative(s)\n",
      "accuracy: 100.00 %\n",
      "||x|| = 6.0 >= ||recovered_x||? True\n",
      "||x|| = 6.0 >= ||recovered_x||? True\n"
     ]
    }
   ],
   "source": [
    "fpr, fnr, f = 0, 0, 2/384 \n",
    "file2 = '/Users/yiningliu/research/pooled-sampling/COVID-19-pooling/tests/data/x-f-2-384.csv' \n",
    "result = compare_truth_and_estimates(membership_matrix, file2, fpr, fnr, f)\n",
    "xs = result['xs']\n",
    "recovered_xs = result['recovered_xs']\n",
    "recovered_false_ps = result['recovered_false_ps']\n",
    "recovered_false_ns = result['recovered_false_ns']\n",
    "check_ILP_optimality(xs, recovered_xs)\n",
    "check_ILP_optimality(xs, recovered_xs)"
   ]
  },
  {
   "cell_type": "code",
   "execution_count": 9,
   "metadata": {},
   "outputs": [
    {
     "data": {
      "text/plain": [
       "(0.0, 0.0)"
      ]
     },
     "execution_count": 9,
     "metadata": {},
     "output_type": "execute_result"
    }
   ],
   "source": [
    "recovered_false_ps.sum(), recovered_false_ns.sum() # should be zeros"
   ]
  },
  {
   "cell_type": "markdown",
   "metadata": {},
   "source": [
    "# Test Result for f = 3/384"
   ]
  },
  {
   "cell_type": "code",
   "execution_count": 8,
   "metadata": {},
   "outputs": [
    {
     "name": "stdout",
     "output_type": "stream",
     "text": [
      "Starting trail 0 ...\n",
      "Starting trail 10 ...\n",
      "Starting trail 20 ...\n",
      "Starting trail 30 ...\n",
      "Starting trail 40 ...\n",
      "Starting trail 50 ...\n",
      "Starting trail 60 ...\n",
      "Starting trail 70 ...\n",
      "Starting trail 80 ...\n",
      "Starting trail 90 ...\n",
      "=========================\n",
      "33 errors: 15 false positive(s), 18 false negative(s)\n",
      "accuracy: 99.91 %\n",
      "||x|| = 5.0 >= ||recovered_x||? True\n",
      "||x|| = 7.0 >= ||recovered_x||? True\n",
      "||x|| = 6.0 >= ||recovered_x||? True\n",
      "||x|| = 8.0 >= ||recovered_x||? True\n",
      "||x|| = 8.0 >= ||recovered_x||? True\n",
      "||x|| = 7.0 >= ||recovered_x||? True\n",
      "||x|| = 7.0 >= ||recovered_x||? True\n"
     ]
    }
   ],
   "source": [
    "fpr, fnr, f = 0, 0, 3/384 \n",
    "file3 = '/Users/yiningliu/research/pooled-sampling/COVID-19-pooling/tests/data/x-f-3-384.csv' \n",
    "result = compare_truth_and_estimates(membership_matrix, file3, fpr, fnr, f)\n",
    "xs = result['xs']\n",
    "recovered_xs = result['recovered_xs']\n",
    "recovered_false_ps = result['recovered_false_ps']\n",
    "recovered_false_ns = result['recovered_false_ns']\n",
    "check_ILP_optimality(xs, recovered_xs)"
   ]
  },
  {
   "cell_type": "code",
   "execution_count": 11,
   "metadata": {},
   "outputs": [
    {
     "data": {
      "text/plain": [
       "(0.0, 0.0)"
      ]
     },
     "execution_count": 11,
     "metadata": {},
     "output_type": "execute_result"
    }
   ],
   "source": [
    "recovered_false_ps.sum(), recovered_false_ns.sum() # should be zeros"
   ]
  },
  {
   "cell_type": "markdown",
   "metadata": {},
   "source": [
    "# Test Result for f = 4/384"
   ]
  },
  {
   "cell_type": "code",
   "execution_count": 9,
   "metadata": {},
   "outputs": [
    {
     "name": "stdout",
     "output_type": "stream",
     "text": [
      "Starting trail 0 ...\n",
      "Starting trail 10 ...\n",
      "Starting trail 20 ...\n",
      "Starting trail 30 ...\n",
      "Starting trail 40 ...\n",
      "Starting trail 50 ...\n",
      "Starting trail 60 ...\n",
      "Starting trail 70 ...\n",
      "Starting trail 80 ...\n",
      "Starting trail 90 ...\n",
      "=========================\n",
      "151 errors: 65 false positive(s), 86 false negative(s)\n",
      "accuracy: 99.61 %\n",
      "||x|| = 8.0 >= ||recovered_x||? True\n",
      "||x|| = 7.0 >= ||recovered_x||? True\n",
      "||x|| = 10.0 >= ||recovered_x||? True\n",
      "||x|| = 10.0 >= ||recovered_x||? True\n",
      "||x|| = 6.0 >= ||recovered_x||? True\n",
      "||x|| = 7.0 >= ||recovered_x||? True\n",
      "||x|| = 8.0 >= ||recovered_x||? True\n",
      "||x|| = 6.0 >= ||recovered_x||? True\n",
      "||x|| = 10.0 >= ||recovered_x||? True\n",
      "||x|| = 5.0 >= ||recovered_x||? True\n",
      "||x|| = 7.0 >= ||recovered_x||? True\n",
      "||x|| = 7.0 >= ||recovered_x||? True\n",
      "||x|| = 7.0 >= ||recovered_x||? True\n",
      "||x|| = 7.0 >= ||recovered_x||? True\n",
      "||x|| = 8.0 >= ||recovered_x||? True\n",
      "||x|| = 11.0 >= ||recovered_x||? True\n",
      "||x|| = 7.0 >= ||recovered_x||? True\n",
      "||x|| = 9.0 >= ||recovered_x||? True\n"
     ]
    }
   ],
   "source": [
    "fpr, fnr, f = 0, 0, 4/384 \n",
    "file4 = '/Users/yiningliu/research/pooled-sampling/COVID-19-pooling/tests/data/x-f-4-384.csv' \n",
    "result = compare_truth_and_estimates(membership_matrix, file4, fpr, fnr, f)\n",
    "xs = result['xs']\n",
    "recovered_xs = result['recovered_xs']\n",
    "recovered_false_ps = result['recovered_false_ps']\n",
    "recovered_false_ns = result['recovered_false_ns']\n",
    "check_ILP_optimality(xs, recovered_xs)"
   ]
  },
  {
   "cell_type": "code",
   "execution_count": 13,
   "metadata": {},
   "outputs": [
    {
     "data": {
      "text/plain": [
       "(0.0, 0.0)"
      ]
     },
     "execution_count": 13,
     "metadata": {},
     "output_type": "execute_result"
    }
   ],
   "source": [
    "recovered_false_ps.sum(), recovered_false_ns.sum() # should be zeros"
   ]
  },
  {
   "cell_type": "markdown",
   "metadata": {},
   "source": [
    "# Test Result for f = 5/384"
   ]
  },
  {
   "cell_type": "code",
   "execution_count": 10,
   "metadata": {},
   "outputs": [
    {
     "name": "stdout",
     "output_type": "stream",
     "text": [
      "Starting trail 0 ...\n",
      "Starting trail 10 ...\n",
      "Starting trail 20 ...\n",
      "Starting trail 30 ...\n",
      "Starting trail 40 ...\n",
      "Starting trail 50 ...\n",
      "Starting trail 60 ...\n",
      "Starting trail 70 ...\n",
      "Starting trail 80 ...\n",
      "Starting trail 90 ...\n",
      "=========================\n",
      "287 errors: 130 false positive(s), 157 false negative(s)\n",
      "accuracy: 99.25 %\n",
      "||x|| = 6.0 >= ||recovered_x||? True\n",
      "||x|| = 7.0 >= ||recovered_x||? True\n",
      "||x|| = 9.0 >= ||recovered_x||? True\n",
      "||x|| = 9.0 >= ||recovered_x||? True\n",
      "||x|| = 7.0 >= ||recovered_x||? True\n",
      "||x|| = 9.0 >= ||recovered_x||? True\n",
      "||x|| = 4.0 >= ||recovered_x||? True\n",
      "||x|| = 7.0 >= ||recovered_x||? True\n",
      "||x|| = 8.0 >= ||recovered_x||? True\n",
      "||x|| = 10.0 >= ||recovered_x||? True\n",
      "||x|| = 5.0 >= ||recovered_x||? True\n",
      "||x|| = 8.0 >= ||recovered_x||? True\n",
      "||x|| = 8.0 >= ||recovered_x||? True\n",
      "||x|| = 10.0 >= ||recovered_x||? True\n",
      "||x|| = 7.0 >= ||recovered_x||? True\n",
      "||x|| = 5.0 >= ||recovered_x||? True\n",
      "||x|| = 9.0 >= ||recovered_x||? True\n",
      "||x|| = 7.0 >= ||recovered_x||? True\n",
      "||x|| = 8.0 >= ||recovered_x||? True\n",
      "||x|| = 7.0 >= ||recovered_x||? True\n",
      "||x|| = 6.0 >= ||recovered_x||? True\n",
      "||x|| = 8.0 >= ||recovered_x||? True\n",
      "||x|| = 7.0 >= ||recovered_x||? True\n",
      "||x|| = 4.0 >= ||recovered_x||? True\n",
      "||x|| = 8.0 >= ||recovered_x||? True\n",
      "||x|| = 8.0 >= ||recovered_x||? True\n",
      "||x|| = 6.0 >= ||recovered_x||? True\n",
      "||x|| = 5.0 >= ||recovered_x||? True\n",
      "||x|| = 8.0 >= ||recovered_x||? True\n",
      "||x|| = 7.0 >= ||recovered_x||? True\n",
      "||x|| = 8.0 >= ||recovered_x||? True\n",
      "||x|| = 8.0 >= ||recovered_x||? True\n",
      "||x|| = 9.0 >= ||recovered_x||? True\n",
      "||x|| = 7.0 >= ||recovered_x||? True\n",
      "||x|| = 7.0 >= ||recovered_x||? True\n"
     ]
    }
   ],
   "source": [
    "fpr, fnr, f = 0, 0, 5/384 \n",
    "file5 = '/Users/yiningliu/research/pooled-sampling/COVID-19-pooling/tests/data/x-f-5-384.csv' \n",
    "result = compare_truth_and_estimates(membership_matrix, file5, fpr, fnr, f)\n",
    "xs = result['xs']\n",
    "recovered_xs = result['recovered_xs']\n",
    "recovered_false_ps = result['recovered_false_ps']\n",
    "recovered_false_ns = result['recovered_false_ns']\n",
    "check_ILP_optimality(xs, recovered_xs)"
   ]
  },
  {
   "cell_type": "code",
   "execution_count": 16,
   "metadata": {},
   "outputs": [
    {
     "data": {
      "text/plain": [
       "(0.0, 0.0)"
      ]
     },
     "execution_count": 16,
     "metadata": {},
     "output_type": "execute_result"
    }
   ],
   "source": [
    "recovered_false_ps.sum(), recovered_false_ns.sum() # should be zeros"
   ]
  },
  {
   "cell_type": "markdown",
   "metadata": {},
   "source": [
    "# Test using Random Measurement Matrix with row weight = 48\n",
    "Randomly choose 48 nonzero entries for each row. "
   ]
  },
  {
   "cell_type": "code",
   "execution_count": 17,
   "metadata": {},
   "outputs": [],
   "source": [
    "def generate_const_row_weight_random_M(m):\n",
    "    \"\"\"m is the row weight.\"\"\"\n",
    "    random_membership_matrix = np.zeros(membership_matrix.shape)\n",
    "    num_pools, num_samples = random_membership_matrix.shape\n",
    "    for i in range(num_pools):\n",
    "        indices = np.random.choice(num_samples, m, replace=False)\n",
    "        for index in indices:\n",
    "            random_membership_matrix[i, index] = 1 \n",
    "    return random_membership_matrix"
   ]
  },
  {
   "cell_type": "code",
   "execution_count": 29,
   "metadata": {},
   "outputs": [],
   "source": [
    "def test_random_M(m, k, num_trails, print_every=5): \n",
    "    \"\"\"\n",
    "    m: constant row weight\n",
    "    k: expected number of positives among 384 samples\n",
    "    num_trails: test num_trails random membership matrices\n",
    "    \n",
    "    returns: average accuracy \n",
    "    \"\"\"\n",
    "    fpr, fnr, f = 0, 0, k/384\n",
    "    file = '/Users/yiningliu/research/pooled-sampling/COVID-19-pooling/tests/data/x-f-%s-384.csv' % k \n",
    "    accuracy = []\n",
    "    for i in range(num_trails): \n",
    "        if i % print_every == 0:\n",
    "            print(\"Starting trail %s\" % i) \n",
    "        matrix = generate_const_row_weight_random_M(m)\n",
    "        result = compare_truth_and_estimates(matrix, file, fpr, fnr, f, verbose=True)\n",
    "        accuracy.append(result['accuracy']) \n",
    "    average_accuracy = np.average(accuracy)\n",
    "    \n",
    "    print(\"======================\")  \n",
    "    print(\"Below is the test result for constant row weight = %s, infection rate %s/384\" % (m, k)) \n",
    "    print(\"The result is based on %s simulations.\" % num_trails) \n",
    "    print(\"======================\") \n",
    "    print(\"Average Accuracy: %.2f %%\" % (average_accuracy * 100))"
   ]
  },
  {
   "cell_type": "markdown",
   "metadata": {},
   "source": [
    "# Test Result for f = 1/384, 2/384, 3/384, 4/384, 5/384"
   ]
  },
  {
   "cell_type": "code",
   "execution_count": 32,
   "metadata": {},
   "outputs": [
    {
     "name": "stdout",
     "output_type": "stream",
     "text": [
      "Starting trail 0\n",
      "Starting trail 5\n",
      "======================\n",
      "Below is the test result for constant row weight = 48, infection rate 1/384\n",
      "The result is based on 10 simulations.\n",
      "======================\n",
      "Average Accuracy: 99.99 %\n"
     ]
    }
   ],
   "source": [
    "test_random_M(48, 1, 10) "
   ]
  },
  {
   "cell_type": "code",
   "execution_count": 33,
   "metadata": {},
   "outputs": [
    {
     "name": "stdout",
     "output_type": "stream",
     "text": [
      "Starting trail 0\n",
      "Starting trail 5\n",
      "======================\n",
      "Below is the test result for constant row weight = 48, infection rate 2/384\n",
      "The result is based on 10 simulations.\n",
      "======================\n",
      "Average Accuracy: 99.97 %\n"
     ]
    }
   ],
   "source": [
    "test_random_M(48, 2, 10) "
   ]
  },
  {
   "cell_type": "code",
   "execution_count": 34,
   "metadata": {},
   "outputs": [
    {
     "name": "stdout",
     "output_type": "stream",
     "text": [
      "Starting trail 0\n",
      "Starting trail 5\n",
      "======================\n",
      "Below is the test result for constant row weight = 48, infection rate 3/384\n",
      "The result is based on 10 simulations.\n",
      "======================\n",
      "Average Accuracy: 99.85 %\n"
     ]
    }
   ],
   "source": [
    "test_random_M(48, 3, 10) "
   ]
  },
  {
   "cell_type": "code",
   "execution_count": 35,
   "metadata": {},
   "outputs": [
    {
     "name": "stdout",
     "output_type": "stream",
     "text": [
      "Starting trail 0\n",
      "Starting trail 5\n",
      "======================\n",
      "Below is the test result for constant row weight = 48, infection rate 4/384\n",
      "The result is based on 10 simulations.\n",
      "======================\n",
      "Average Accuracy: 99.60 %\n"
     ]
    }
   ],
   "source": [
    "test_random_M(48, 4, 10) "
   ]
  },
  {
   "cell_type": "code",
   "execution_count": 36,
   "metadata": {},
   "outputs": [
    {
     "name": "stdout",
     "output_type": "stream",
     "text": [
      "Starting trail 0\n",
      "Starting trail 1\n",
      "Starting trail 2\n",
      "Starting trail 3\n",
      "Starting trail 4\n",
      "Starting trail 5\n",
      "Starting trail 6\n",
      "Starting trail 7\n",
      "Starting trail 8\n",
      "Starting trail 9\n",
      "======================\n",
      "Below is the test result for constant row weight = 48, infection rate 5/384\n",
      "The result is based on 10 simulations.\n",
      "======================\n",
      "Average Accuracy: 99.38 %\n"
     ]
    }
   ],
   "source": [
    "test_random_M(48, 5, 10, print_every=1) "
   ]
  },
  {
   "cell_type": "code",
   "execution_count": null,
   "metadata": {},
   "outputs": [],
   "source": []
  }
 ],
 "metadata": {
  "kernelspec": {
   "display_name": "Python 3",
   "language": "python",
   "name": "python3"
  },
  "language_info": {
   "codemirror_mode": {
    "name": "ipython",
    "version": 3
   },
   "file_extension": ".py",
   "mimetype": "text/x-python",
   "name": "python",
   "nbconvert_exporter": "python",
   "pygments_lexer": "ipython3",
   "version": "3.8.3"
  }
 },
 "nbformat": 4,
 "nbformat_minor": 4
}
