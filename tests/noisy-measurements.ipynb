{
 "cells": [
  {
   "cell_type": "code",
   "execution_count": 1,
   "metadata": {},
   "outputs": [],
   "source": [
    "import sys\n",
    "sys.path.insert(1, '/Users/yiningliu/research/pooled-sampling/COVID-19-pooling') # set this to your directory"
   ]
  },
  {
   "cell_type": "code",
   "execution_count": 2,
   "metadata": {},
   "outputs": [],
   "source": [
    "import numpy as np\n",
    "from numpy import genfromtxt\n",
    "import scipy.io\n",
    "from test import recover_pool_results, check_optimality\n",
    "from optimal_sizes import optimal_pool_size\n",
    "import random\n",
    "import os\n",
    "from util import simulate_pool_results"
   ]
  },
  {
   "cell_type": "code",
   "execution_count": 3,
   "metadata": {},
   "outputs": [],
   "source": [
    "# this is the membership matrix by Shental et al. \n",
    "# download the file from https://github.com/NoamShental/PBEST/blob/master/mFiles/poolingMatrix.mat \n",
    "matrix_file = scipy.io.loadmat('/Users/yiningliu/research/pooled-sampling/COVID-19-pooling/tests/data/shental-poolingMatrix.mat')\n",
    "membership_matrix = matrix_file['poolingMatrix'] "
   ]
  },
  {
   "cell_type": "code",
   "execution_count": 4,
   "metadata": {},
   "outputs": [],
   "source": [
    "def compare_truth_and_estimates(membership_matrix, true_infection_vectors_file, fpr, fnr, f, verbose=False):\n",
    "    xs = np.genfromtxt(true_infection_vectors_file, delimiter=',') \n",
    "    pool_results, fps, fns = simulate_pool_results(xs, membership_matrix, fpr, fnr)\n",
    "        \n",
    "    recovered_xs, recovered_fps, recovered_fns = recover_pool_results(membership_matrix,\n",
    "                                                                                pool_results,\n",
    "                                                                                fpr, fnr, f, verbose)\n",
    "    \n",
    "    check_optimality(xs, recovered_xs, fps, recovered_fps, fns, recovered_fns, fpr, fnr, f) \n",
    "    \n",
    "    num_errors = (xs != recovered_xs).sum()\n",
    "    num_fp = ((xs == 0) * (recovered_xs == 1)).sum()\n",
    "    num_fn = ((xs == 1) * (recovered_xs == 0)).sum()\n",
    "\n",
    "    result = {\"num_errors\": int(num_errors), \"num_fp\": int(num_fp), \"num_fn\": int(num_fn)}\n",
    "\n",
    "    if not verbose:\n",
    "        accuracy = (xs == recovered_xs).sum() / xs.size\n",
    "        print(\"=========================\")\n",
    "        print(\"%s errors: %s false positive(s), %s false negative(s)\" % (num_errors, num_fp, num_fn))\n",
    "        print(\"accuracy: %.2f %%\" % (accuracy * 100))\n",
    "\n",
    "    return xs, recovered_xs, recovered_fps, recovered_fns, result\n",
    "\n",
    "def test_shental(k, fpr, fnr):\n",
    "    f = k/384 \n",
    "    file = os.getcwd() + '/data/x-f-%s-384.csv' % k\n",
    "    result = compare_truth_and_estimates(membership_matrix, file, fpr, fnr, f)"
   ]
  },
  {
   "cell_type": "markdown",
   "metadata": {},
   "source": [
    "# Shental's matrix f = 1/384"
   ]
  },
  {
   "cell_type": "code",
   "execution_count": 5,
   "metadata": {},
   "outputs": [
    {
     "name": "stdout",
     "output_type": "stream",
     "text": [
      "Starting trail 0 ...\n",
      "Starting trail 10 ...\n",
      "Starting trail 20 ...\n",
      "Starting trail 30 ...\n",
      "Starting trail 40 ...\n",
      "Starting trail 50 ...\n",
      "Starting trail 60 ...\n",
      "Starting trail 70 ...\n",
      "Starting trail 80 ...\n",
      "Starting trail 90 ...\n",
      "=========================\n",
      "0 errors: 0 false positive(s), 0 false negative(s)\n",
      "accuracy: 100.00 %\n"
     ]
    }
   ],
   "source": [
    "test_shental(1, 0, 0.05)"
   ]
  },
  {
   "cell_type": "markdown",
   "metadata": {},
   "source": [
    "# Shental's matrix f = 2/384"
   ]
  },
  {
   "cell_type": "code",
   "execution_count": 6,
   "metadata": {},
   "outputs": [
    {
     "name": "stdout",
     "output_type": "stream",
     "text": [
      "Starting trail 0 ...\n",
      "Starting trail 10 ...\n",
      "Starting trail 20 ...\n",
      "Starting trail 30 ...\n",
      "Starting trail 40 ...\n",
      "Starting trail 50 ...\n",
      "Starting trail 60 ...\n",
      "Starting trail 70 ...\n",
      "Starting trail 80 ...\n",
      "Starting trail 90 ...\n",
      "=========================\n",
      "1 errors: 0 false positive(s), 1 false negative(s)\n",
      "accuracy: 100.00 %\n"
     ]
    }
   ],
   "source": [
    "test_shental(2, 0, 0)"
   ]
  },
  {
   "cell_type": "code",
   "execution_count": 7,
   "metadata": {},
   "outputs": [
    {
     "name": "stdout",
     "output_type": "stream",
     "text": [
      "Starting trail 0 ...\n",
      "Starting trail 10 ...\n",
      "Starting trail 20 ...\n",
      "Starting trail 30 ...\n",
      "Starting trail 40 ...\n",
      "Starting trail 50 ...\n",
      "Starting trail 60 ...\n",
      "Starting trail 70 ...\n",
      "Starting trail 80 ...\n",
      "Starting trail 90 ...\n",
      "=========================\n",
      "7 errors: 3 false positive(s), 4 false negative(s)\n",
      "accuracy: 99.98 %\n"
     ]
    }
   ],
   "source": [
    "test_shental(2, 0, 0.05)"
   ]
  },
  {
   "cell_type": "markdown",
   "metadata": {},
   "source": [
    "# Shental's matrix f = 3/384"
   ]
  },
  {
   "cell_type": "code",
   "execution_count": 8,
   "metadata": {},
   "outputs": [
    {
     "name": "stdout",
     "output_type": "stream",
     "text": [
      "Starting trail 0 ...\n",
      "Starting trail 10 ...\n",
      "Starting trail 20 ...\n",
      "Starting trail 30 ...\n",
      "Starting trail 40 ...\n",
      "Starting trail 50 ...\n",
      "Starting trail 60 ...\n",
      "Starting trail 70 ...\n",
      "Starting trail 80 ...\n",
      "Starting trail 90 ...\n",
      "=========================\n",
      "43 errors: 20 false positive(s), 23 false negative(s)\n",
      "accuracy: 99.89 %\n"
     ]
    }
   ],
   "source": [
    "test_shental(3, 0, 0)"
   ]
  },
  {
   "cell_type": "code",
   "execution_count": 9,
   "metadata": {},
   "outputs": [
    {
     "name": "stdout",
     "output_type": "stream",
     "text": [
      "Starting trail 0 ...\n",
      "Starting trail 10 ...\n",
      "Starting trail 20 ...\n",
      "Starting trail 30 ...\n",
      "Starting trail 40 ...\n",
      "Starting trail 50 ...\n",
      "Starting trail 60 ...\n",
      "Starting trail 70 ...\n",
      "Starting trail 80 ...\n",
      "Starting trail 90 ...\n",
      "=========================\n",
      "80 errors: 35 false positive(s), 45 false negative(s)\n",
      "accuracy: 99.79 %\n"
     ]
    }
   ],
   "source": [
    "test_shental(3, 0, 0.05)"
   ]
  },
  {
   "cell_type": "markdown",
   "metadata": {},
   "source": [
    "# Shental's matrix f = 4/384"
   ]
  },
  {
   "cell_type": "code",
   "execution_count": 12,
   "metadata": {},
   "outputs": [
    {
     "name": "stdout",
     "output_type": "stream",
     "text": [
      "Starting trail 0 ...\n",
      "Starting trail 10 ...\n",
      "Starting trail 20 ...\n",
      "Starting trail 30 ...\n",
      "Starting trail 40 ...\n",
      "Starting trail 50 ...\n",
      "Starting trail 60 ...\n",
      "Starting trail 70 ...\n",
      "Starting trail 80 ...\n",
      "Starting trail 90 ...\n",
      "=========================\n",
      "149 errors: 64 false positive(s), 85 false negative(s)\n",
      "accuracy: 99.61 %\n"
     ]
    }
   ],
   "source": [
    "test_shental(4, 0, 0)"
   ]
  },
  {
   "cell_type": "code",
   "execution_count": 13,
   "metadata": {},
   "outputs": [
    {
     "name": "stdout",
     "output_type": "stream",
     "text": [
      "Starting trail 0 ...\n",
      "Starting trail 10 ...\n",
      "Starting trail 20 ...\n",
      "Starting trail 30 ...\n",
      "Starting trail 40 ...\n",
      "Starting trail 50 ...\n",
      "Starting trail 60 ...\n",
      "Starting trail 70 ...\n",
      "Starting trail 80 ...\n",
      "Starting trail 90 ...\n",
      "=========================\n",
      "221 errors: 97 false positive(s), 124 false negative(s)\n",
      "accuracy: 99.42 %\n"
     ]
    }
   ],
   "source": [
    "test_shental(4, 0, 0.05)"
   ]
  },
  {
   "cell_type": "markdown",
   "metadata": {},
   "source": [
    "# Shental's matrix f = 5/384"
   ]
  },
  {
   "cell_type": "code",
   "execution_count": 14,
   "metadata": {},
   "outputs": [
    {
     "name": "stdout",
     "output_type": "stream",
     "text": [
      "Starting trail 0 ...\n",
      "Starting trail 10 ...\n",
      "Starting trail 20 ...\n",
      "Starting trail 30 ...\n",
      "Starting trail 40 ...\n",
      "Starting trail 50 ...\n",
      "Starting trail 60 ...\n",
      "Starting trail 70 ...\n",
      "Starting trail 80 ...\n",
      "Starting trail 90 ...\n",
      "=========================\n",
      "263 errors: 118 false positive(s), 145 false negative(s)\n",
      "accuracy: 99.32 %\n"
     ]
    }
   ],
   "source": [
    "test_shental(5, 0, 0)"
   ]
  },
  {
   "cell_type": "code",
   "execution_count": 15,
   "metadata": {},
   "outputs": [
    {
     "name": "stdout",
     "output_type": "stream",
     "text": [
      "Starting trail 0 ...\n",
      "Starting trail 10 ...\n",
      "Starting trail 20 ...\n",
      "Starting trail 30 ...\n",
      "Starting trail 40 ...\n",
      "Starting trail 50 ...\n",
      "Starting trail 60 ...\n",
      "Starting trail 70 ...\n",
      "Starting trail 80 ...\n",
      "Starting trail 90 ...\n",
      "=========================\n",
      "348 errors: 153 false positive(s), 195 false negative(s)\n",
      "accuracy: 99.09 %\n"
     ]
    }
   ],
   "source": [
    "test_shental(5, 0, 0.05)"
   ]
  },
  {
   "cell_type": "markdown",
   "metadata": {},
   "source": [
    "# Shental's matrix f = 6/384"
   ]
  },
  {
   "cell_type": "code",
   "execution_count": 16,
   "metadata": {},
   "outputs": [
    {
     "name": "stdout",
     "output_type": "stream",
     "text": [
      "Starting trail 0 ...\n",
      "Starting trail 10 ...\n",
      "Starting trail 20 ...\n",
      "Starting trail 30 ...\n",
      "Starting trail 40 ...\n",
      "Starting trail 50 ...\n",
      "Starting trail 60 ...\n",
      "Starting trail 70 ...\n",
      "Starting trail 80 ...\n",
      "Starting trail 90 ...\n",
      "=========================\n",
      "376 errors: 156 false positive(s), 220 false negative(s)\n",
      "accuracy: 99.02 %\n"
     ]
    }
   ],
   "source": [
    "test_shental(6, 0, 0)"
   ]
  },
  {
   "cell_type": "code",
   "execution_count": 17,
   "metadata": {},
   "outputs": [
    {
     "name": "stdout",
     "output_type": "stream",
     "text": [
      "Starting trail 0 ...\n",
      "Starting trail 10 ...\n",
      "Starting trail 20 ...\n",
      "Starting trail 30 ...\n",
      "Starting trail 40 ...\n",
      "Starting trail 50 ...\n",
      "Starting trail 60 ...\n",
      "Starting trail 70 ...\n",
      "Starting trail 80 ...\n",
      "Starting trail 90 ...\n",
      "=========================\n",
      "495 errors: 207 false positive(s), 288 false negative(s)\n",
      "accuracy: 98.71 %\n"
     ]
    }
   ],
   "source": [
    "test_shental(6, 0, 0.05)"
   ]
  },
  {
   "cell_type": "markdown",
   "metadata": {},
   "source": [
    "# Shental's matrix f = 7/384"
   ]
  },
  {
   "cell_type": "code",
   "execution_count": 18,
   "metadata": {},
   "outputs": [
    {
     "name": "stdout",
     "output_type": "stream",
     "text": [
      "Starting trail 0 ...\n",
      "Starting trail 10 ...\n",
      "Starting trail 20 ...\n",
      "Starting trail 30 ...\n",
      "Starting trail 40 ...\n",
      "Starting trail 50 ...\n",
      "Starting trail 60 ...\n",
      "Starting trail 70 ...\n",
      "Starting trail 80 ...\n",
      "Starting trail 90 ...\n",
      "=========================\n",
      "606 errors: 259 false positive(s), 347 false negative(s)\n",
      "accuracy: 98.42 %\n"
     ]
    }
   ],
   "source": [
    "test_shental(7, 0, 0)"
   ]
  },
  {
   "cell_type": "code",
   "execution_count": 19,
   "metadata": {},
   "outputs": [
    {
     "name": "stdout",
     "output_type": "stream",
     "text": [
      "Starting trail 0 ...\n",
      "Starting trail 10 ...\n",
      "Starting trail 20 ...\n",
      "Starting trail 30 ...\n",
      "Starting trail 40 ...\n",
      "Starting trail 50 ...\n",
      "Starting trail 60 ...\n",
      "Starting trail 70 ...\n",
      "Starting trail 80 ...\n",
      "Starting trail 90 ...\n",
      "=========================\n",
      "751 errors: 319 false positive(s), 432 false negative(s)\n",
      "accuracy: 98.04 %\n"
     ]
    }
   ],
   "source": [
    "test_shental(7, 0, 0.05)"
   ]
  },
  {
   "cell_type": "code",
   "execution_count": null,
   "metadata": {},
   "outputs": [],
   "source": []
  }
 ],
 "metadata": {
  "kernelspec": {
   "display_name": "Python 3",
   "language": "python",
   "name": "python3"
  },
  "language_info": {
   "codemirror_mode": {
    "name": "ipython",
    "version": 3
   },
   "file_extension": ".py",
   "mimetype": "text/x-python",
   "name": "python",
   "nbconvert_exporter": "python",
   "pygments_lexer": "ipython3",
   "version": "3.8.3"
  }
 },
 "nbformat": 4,
 "nbformat_minor": 4
}
